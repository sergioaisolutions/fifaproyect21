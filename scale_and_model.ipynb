{
 "cells": [
  {
   "cell_type": "markdown",
   "source": [
    "<h1>EXPLANATION</h1>"
   ],
   "metadata": {}
  },
  {
   "cell_type": "markdown",
   "source": [
    "In a first instance, having only the training data, we decided to use only the numerical data, and we obtained an r2 of 0.90, but at the time of receiving the data to predict, we had problems with the columns (some that we used in the model were not in the data to predict), and having little time, we decided to use only two columns (the most correlated ones). Have we lost too much information? Yes, but the model has an R2 of 0.71 with only two columns, so it is an acceptable result. The predictions compared to the actual results have an R2 of 0.708, so the model is perfectly trained. Using more columns will give a better result, so those would be the next steps. We have done an experimental model only with goalkeepers, and it has obtained an R2 0.96, so it would be interesting to look at this approximation."
   ],
   "metadata": {}
  },
  {
   "cell_type": "markdown",
   "source": [
    "<h2>IMPORTING THE REQUIRED LIBRARIES</h2>"
   ],
   "metadata": {}
  },
  {
   "cell_type": "code",
   "execution_count": 1,
   "source": [
    "import pandas as pd\r\n",
    "import numpy as np\r\n",
    "\r\n",
    "from sklearn.preprocessing import StandardScaler\r\n",
    "from sklearn.model_selection import train_test_split\r\n",
    "\r\n",
    "from sklearn.linear_model import LinearRegression\r\n",
    "\r\n",
    "from math import sqrt\r\n",
    "from sklearn.metrics import r2_score, mean_absolute_error, mean_squared_error\r\n",
    "\r\n",
    "import pickle"
   ],
   "outputs": [],
   "metadata": {}
  },
  {
   "cell_type": "markdown",
   "source": [
    "<h2>IMPORTING THE DATA INTO A DATAFRAME</h2>"
   ],
   "metadata": {}
  },
  {
   "cell_type": "code",
   "execution_count": 2,
   "source": [
    "def import_data(path):\r\n",
    "\r\n",
    "    dataframe = pd.read_csv(path).drop('Unnamed: 0', axis = 1)\r\n",
    "\r\n",
    "    return dataframe\r\n",
    "\r\n",
    "fifa_21_data = import_data('fifa21_training.csv')\r\n",
    "fifa_new_data = import_data('fifa_new_data.csv')[['mentality_composure', 'movement_reactions']]\r\n",
    "names_new_data = import_data('fifa_new_data.csv')['long_name']"
   ],
   "outputs": [],
   "metadata": {}
  },
  {
   "cell_type": "markdown",
   "source": [
    "<h2>NORMALIZING THE COLUMNS OF THE DATAFRAME</h2>"
   ],
   "metadata": {}
  },
  {
   "cell_type": "code",
   "execution_count": 3,
   "source": [
    "def normalize_columns(dataframe):\r\n",
    "\r\n",
    "    normalised_headers = []\r\n",
    "\r\n",
    "    for column in dataframe.columns:\r\n",
    "        \r\n",
    "        column = column.lower()\r\n",
    "        column = column.replace(' ','_')\r\n",
    "        normalised_headers.append(column)\r\n",
    "\r\n",
    "    dataframe.columns = normalised_headers\r\n",
    "\r\n",
    "    return dataframe\r\n",
    "\r\n",
    "fifa_21_data = normalize_columns(fifa_21_data)"
   ],
   "outputs": [],
   "metadata": {}
  },
  {
   "cell_type": "markdown",
   "source": [
    "<h2>SEPARATING THE GOALKEEPERS FROM THE STANDARD PLAYERS</h2>"
   ],
   "metadata": {}
  },
  {
   "cell_type": "code",
   "execution_count": 4,
   "source": [
    "def separate_goalkeepers(dataframe, column, value):\r\n",
    "\r\n",
    "    dataframe_goalkeepers = dataframe[dataframe[column] == value]\r\n",
    "\r\n",
    "    return dataframe_goalkeepers\r\n",
    "\r\n",
    "fifa_21_data_gk = separate_goalkeepers(fifa_21_data, 'position', 'GK')"
   ],
   "outputs": [],
   "metadata": {}
  },
  {
   "cell_type": "markdown",
   "source": [
    "<h2>GETTING ONLY THE INTERNATIONAL REPUTATION</h2>"
   ],
   "metadata": {}
  },
  {
   "cell_type": "code",
   "execution_count": 5,
   "source": [
    "def international_reputation(dataframe, column):\r\n",
    "    \r\n",
    "    column_data = dataframe[column]\r\n",
    "\r\n",
    "    return column_data\r\n",
    "\r\n",
    "# internation_reputation_data = international_reputation(fifa_21_data, ['ir'])"
   ],
   "outputs": [],
   "metadata": {}
  },
  {
   "cell_type": "markdown",
   "source": [
    "<h2>SELECTING ONLY THE NUMERICAL DATA</h2>"
   ],
   "metadata": {}
  },
  {
   "cell_type": "code",
   "execution_count": 6,
   "source": [
    "def get_numerical_data(dataframe, to_avoid_columns):\r\n",
    "\r\n",
    "    numerical_data = dataframe.select_dtypes(include = np.number).drop(to_avoid_columns, axis = 1)\r\n",
    "\r\n",
    "    return numerical_data\r\n",
    "\r\n",
    "fifa_21_data = get_numerical_data(fifa_21_data, ['id'])\r\n",
    "fifa_21_data_gk_numerical = get_numerical_data(fifa_21_data_gk, ['id'])"
   ],
   "outputs": [],
   "metadata": {}
  },
  {
   "cell_type": "markdown",
   "source": [
    "<h2>SELECT ONLY THE GOALKEEPING AND BASE STATS COLUMNS FOR THE GOALKEEPERS DATA</h2>"
   ],
   "metadata": {}
  },
  {
   "cell_type": "code",
   "execution_count": 7,
   "source": [
    "def select_columns(dataframe, columns):\r\n",
    "\r\n",
    "    dataframe = dataframe[columns]\r\n",
    "\r\n",
    "    return dataframe\r\n",
    "\r\n",
    "fifa_21_data = select_columns(fifa_21_data, ['composure', 'reactions', 'ova'])\r\n",
    "fifa_21_data.columns = ['mentality_composure', 'movement_reactions', 'ova']\r\n",
    "\r\n",
    "fifa_21_data_gk_numerical = select_columns(fifa_21_data_gk_numerical, ['goalkeeping', 'base_stats', 'ova'])"
   ],
   "outputs": [],
   "metadata": {}
  },
  {
   "cell_type": "markdown",
   "source": [
    "<h2>FILLING NAN VALUES WITH THE MEAN</h2>"
   ],
   "metadata": {}
  },
  {
   "cell_type": "code",
   "execution_count": 8,
   "source": [
    "def fill_nan_values(dataframe):\r\n",
    "\r\n",
    "    dataframe_columns = dataframe.columns\r\n",
    "\r\n",
    "    for column in dataframe_columns:\r\n",
    "        if dataframe[column].isna().sum() > 0:\r\n",
    "            dataframe[column] = dataframe[column].fillna(dataframe[column].mean())\r\n",
    "\r\n",
    "    return dataframe\r\n",
    "\r\n",
    "fifa_21_data = fill_nan_values(fifa_21_data)\r\n",
    "fifa_new_data = fill_nan_values(fifa_new_data)\r\n",
    "fifa_21_data_gk_numerical = fill_nan_values(fifa_21_data_gk_numerical)"
   ],
   "outputs": [],
   "metadata": {}
  },
  {
   "cell_type": "markdown",
   "source": [
    "<h2>ENCODING THE INTERNATIONAL REPUTATION</h2>"
   ],
   "metadata": {}
  },
  {
   "cell_type": "code",
   "execution_count": 9,
   "source": [
    "def international_reputation_encode(dataframe):\r\n",
    "\r\n",
    "    dataframe = dataframe['ir'].replace({'1 ★': 0, '2 ★': 1, '3 ★': 2, '4 ★': 3, '5 ★': 4})\r\n",
    "    \r\n",
    "    return dataframe\r\n",
    "\r\n",
    "# internation_reputation_data = international_reputation_encode(internation_reputation_data)\r\n",
    "# fifa_21_data['ir'] = internation_reputation_data"
   ],
   "outputs": [],
   "metadata": {}
  },
  {
   "cell_type": "markdown",
   "source": [
    "<h2>SPLITTING THE DATA INTO TWO DATA STRUCTURES: X AND Y</h2>"
   ],
   "metadata": {}
  },
  {
   "cell_type": "code",
   "execution_count": 10,
   "source": [
    "def xy_split(dataframe, target):\r\n",
    "\r\n",
    "    X = dataframe.drop(target, axis = 1)\r\n",
    "    y = dataframe[target]\r\n",
    "\r\n",
    "    return X, y\r\n",
    "\r\n",
    "X, y = xy_split(fifa_21_data, 'ova')\r\n",
    "X_gk, y_gk = xy_split(fifa_21_data_gk_numerical, 'ova')"
   ],
   "outputs": [],
   "metadata": {}
  },
  {
   "cell_type": "markdown",
   "source": [
    "<h2>SPLITTING THE DATA INTO THE TRAINING AND TESTING STRUCTURES</h2>"
   ],
   "metadata": {}
  },
  {
   "cell_type": "code",
   "execution_count": 11,
   "source": [
    "def training_testing_split(x_dataframe, y_array):\r\n",
    "\r\n",
    "    X_train, X_test, y_train, y_test = train_test_split(x_dataframe, y_array, test_size = 0.10, random_state = 42)\r\n",
    "\r\n",
    "    return X_train, X_test, y_train, y_test\r\n",
    "\r\n",
    "X_train, X_test, y_train, y_test = training_testing_split(X, y)\r\n",
    "X_train_gk, X_test_gk, y_train_gk, y_test_gk = training_testing_split(X_gk, y_gk)"
   ],
   "outputs": [],
   "metadata": {}
  },
  {
   "cell_type": "markdown",
   "source": [
    "<h2>SCALING THE DATA USING THE STANDARDSCALER() FUNCTION FROM SKLEARN</h2>"
   ],
   "metadata": {}
  },
  {
   "cell_type": "code",
   "execution_count": 12,
   "source": [
    "def scale_data(x_training, x_testing):\r\n",
    "\r\n",
    "    standard_scaler = StandardScaler().fit(x_training)\r\n",
    "\r\n",
    "    training_array_scaled = standard_scaler.transform(x_training)\r\n",
    "    testing_array_scaled = standard_scaler.transform(x_testing)\r\n",
    "\r\n",
    "    x_training_scaled = pd.DataFrame(data = training_array_scaled, columns = x_training.columns)\r\n",
    "    x_testing_scaled = pd.DataFrame(data = testing_array_scaled, columns = x_testing.columns)\r\n",
    "\r\n",
    "    return x_training_scaled, x_testing_scaled, standard_scaler\r\n",
    "\r\n",
    "X_train_scaled, X_test_scaled, scaler = scale_data(X_train, X_test)\r\n",
    "\r\n",
    "fifa_new_data_array = scaler.transform(fifa_new_data)\r\n",
    "fifa_new_data_scaled = pd.DataFrame(data = fifa_new_data_array, columns = fifa_new_data.columns)\r\n",
    "\r\n",
    "X_train_scaled_gk, X_test_scaled_gk, scaler_gk = scale_data(X_train_gk, X_test_gk)"
   ],
   "outputs": [],
   "metadata": {}
  },
  {
   "cell_type": "markdown",
   "source": [
    "<h2>CREATING AND FITTING A REGRESSION MODEL</h2>"
   ],
   "metadata": {}
  },
  {
   "cell_type": "code",
   "execution_count": 13,
   "source": [
    "def create_fit_model(x_training, y_training, selected_model):\r\n",
    "\r\n",
    "    model = selected_model\r\n",
    "    model.fit(x_training, y_training)\r\n",
    "\r\n",
    "    return model\r\n",
    "\r\n",
    "linear_regression = create_fit_model(X_train_scaled, y_train, LinearRegression())\r\n",
    "linear_regression_gk = create_fit_model(X_train_scaled_gk, y_train_gk, LinearRegression())"
   ],
   "outputs": [],
   "metadata": {}
  },
  {
   "cell_type": "markdown",
   "source": [
    "<h2>GENERATING THE METRICS OF THE MODEL</h2>"
   ],
   "metadata": {}
  },
  {
   "cell_type": "code",
   "execution_count": 14,
   "source": [
    "def model_metrics(model, testing_x, testing_y):\r\n",
    "\r\n",
    "    predictions = model.predict(testing_x)\r\n",
    "\r\n",
    "    score = model.score(testing_x, testing_y)\r\n",
    "    r2 = r2_score(predictions, testing_y)\r\n",
    "    mse = mean_squared_error(predictions, testing_y)\r\n",
    "    mae = mean_absolute_error(predictions, testing_y)\r\n",
    "    rmse = sqrt(mse)\r\n",
    "\r\n",
    "    return score, r2, mse, mae, rmse\r\n",
    "\r\n",
    "score, r2, mse, mae, rmse = model_metrics(linear_regression, X_test_scaled, y_test)\r\n",
    "score_gk, r2_gk, mse_gk, mae_gk, rmse_gk = model_metrics(linear_regression_gk, X_test_scaled_gk, y_test_gk)"
   ],
   "outputs": [],
   "metadata": {}
  },
  {
   "cell_type": "markdown",
   "source": [
    "<h2>MODEL RESULTS</h2>"
   ],
   "metadata": {}
  },
  {
   "cell_type": "code",
   "execution_count": 15,
   "source": [
    "print('\\nRESULTS AND METRICS OF THE MODEL - ALL TYPE OF PLAYERS')\r\n",
    "print('------------------------------------------------------\\n')\r\n",
    "\r\n",
    "print(f'SCORE: {round(score, 2)}')\r\n",
    "print(f'R2 SCORE: {round(r2, 2)}')\r\n",
    "print(f'MEAN SQUARED ERROR: {round(mse, 2)}')\r\n",
    "print(f'MEAN ABSOLUTE ERROR: {round(mae, 2)}')\r\n",
    "print(f'ROOT MEAN SQUARED ERROR: {round(rmse, 2)}')"
   ],
   "outputs": [
    {
     "output_type": "stream",
     "name": "stdout",
     "text": [
      "\n",
      "RESULTS AND METRICS OF THE MODEL - ALL TYPE OF PLAYERS\n",
      "------------------------------------------------------\n",
      "\n",
      "SCORE: 0.79\n",
      "R2 SCORE: 0.71\n",
      "MEAN SQUARED ERROR: 11.01\n",
      "MEAN ABSOLUTE ERROR: 2.59\n",
      "ROOT MEAN SQUARED ERROR: 3.32\n"
     ]
    }
   ],
   "metadata": {}
  },
  {
   "cell_type": "markdown",
   "source": [
    "<h2>MODEL RESULTS - ONLY GOALKEEPERS - EXPERIMENTAL APPROACH</h2>"
   ],
   "metadata": {}
  },
  {
   "cell_type": "code",
   "execution_count": 16,
   "source": [
    "print('\\nRESULTS AND METRICS OF THE MODEL - ONLY GOALKEEPERS')\r\n",
    "print('---------------------------------------------------\\n')\r\n",
    "\r\n",
    "print(f'SCORE: {round(score_gk, 2)}')\r\n",
    "print(f'R2 SCORE: {round(r2_gk, 2)}')\r\n",
    "print(f'MEAN SQUARED ERROR: {round(mse_gk, 2)}')\r\n",
    "print(f'MEAN ABSOLUTE ERROR: {round(mae_gk, 2)}')\r\n",
    "print(f'ROOT MEAN SQUARED ERROR: {round(rmse_gk, 2)}')"
   ],
   "outputs": [
    {
     "output_type": "stream",
     "name": "stdout",
     "text": [
      "\n",
      "RESULTS AND METRICS OF THE MODEL - ONLY GOALKEEPERS\n",
      "---------------------------------------------------\n",
      "\n",
      "SCORE: 0.96\n",
      "R2 SCORE: 0.96\n",
      "MEAN SQUARED ERROR: 2.15\n",
      "MEAN ABSOLUTE ERROR: 0.78\n",
      "ROOT MEAN SQUARED ERROR: 1.47\n"
     ]
    }
   ],
   "metadata": {}
  },
  {
   "cell_type": "markdown",
   "source": [
    "<h2>PREDICTIONS FOR THE NEW DATA</h2>"
   ],
   "metadata": {}
  },
  {
   "cell_type": "code",
   "execution_count": 17,
   "source": [
    "predictions = linear_regression.predict(fifa_new_data_scaled)\r\n",
    "final_predictions = pd.DataFrame(data = zip(names_new_data.tolist(), predictions), columns = ['name', 'ova_predictions'])\r\n",
    "final_predictions.sort_values(by = 'ova_predictions', ascending = False)"
   ],
   "outputs": [
    {
     "output_type": "execute_result",
     "data": {
      "text/plain": [
       "                            name  ova_predictions\n",
       "511            Toby Alderweireld        83.364757\n",
       "758                    Jan Oblak        81.986404\n",
       "288  Paulo Bruno Exequiel Dybala        81.456102\n",
       "761                 Jadon Sancho        81.024409\n",
       "154   Rodrigo Hernández Cascante        80.435488\n",
       "..                           ...              ...\n",
       "217              Ted Tattermusch        50.751094\n",
       "706                Marius Bildøy        50.402672\n",
       "929                  Paul Martin        48.410746\n",
       "390           Callum King-Harmes        47.556674\n",
       "214                  Jimmy Hague        43.514204\n",
       "\n",
       "[1000 rows x 2 columns]"
      ],
      "text/html": [
       "<div>\n",
       "<style scoped>\n",
       "    .dataframe tbody tr th:only-of-type {\n",
       "        vertical-align: middle;\n",
       "    }\n",
       "\n",
       "    .dataframe tbody tr th {\n",
       "        vertical-align: top;\n",
       "    }\n",
       "\n",
       "    .dataframe thead th {\n",
       "        text-align: right;\n",
       "    }\n",
       "</style>\n",
       "<table border=\"1\" class=\"dataframe\">\n",
       "  <thead>\n",
       "    <tr style=\"text-align: right;\">\n",
       "      <th></th>\n",
       "      <th>name</th>\n",
       "      <th>ova_predictions</th>\n",
       "    </tr>\n",
       "  </thead>\n",
       "  <tbody>\n",
       "    <tr>\n",
       "      <th>511</th>\n",
       "      <td>Toby Alderweireld</td>\n",
       "      <td>83.364757</td>\n",
       "    </tr>\n",
       "    <tr>\n",
       "      <th>758</th>\n",
       "      <td>Jan Oblak</td>\n",
       "      <td>81.986404</td>\n",
       "    </tr>\n",
       "    <tr>\n",
       "      <th>288</th>\n",
       "      <td>Paulo Bruno Exequiel Dybala</td>\n",
       "      <td>81.456102</td>\n",
       "    </tr>\n",
       "    <tr>\n",
       "      <th>761</th>\n",
       "      <td>Jadon Sancho</td>\n",
       "      <td>81.024409</td>\n",
       "    </tr>\n",
       "    <tr>\n",
       "      <th>154</th>\n",
       "      <td>Rodrigo Hernández Cascante</td>\n",
       "      <td>80.435488</td>\n",
       "    </tr>\n",
       "    <tr>\n",
       "      <th>...</th>\n",
       "      <td>...</td>\n",
       "      <td>...</td>\n",
       "    </tr>\n",
       "    <tr>\n",
       "      <th>217</th>\n",
       "      <td>Ted Tattermusch</td>\n",
       "      <td>50.751094</td>\n",
       "    </tr>\n",
       "    <tr>\n",
       "      <th>706</th>\n",
       "      <td>Marius Bildøy</td>\n",
       "      <td>50.402672</td>\n",
       "    </tr>\n",
       "    <tr>\n",
       "      <th>929</th>\n",
       "      <td>Paul Martin</td>\n",
       "      <td>48.410746</td>\n",
       "    </tr>\n",
       "    <tr>\n",
       "      <th>390</th>\n",
       "      <td>Callum King-Harmes</td>\n",
       "      <td>47.556674</td>\n",
       "    </tr>\n",
       "    <tr>\n",
       "      <th>214</th>\n",
       "      <td>Jimmy Hague</td>\n",
       "      <td>43.514204</td>\n",
       "    </tr>\n",
       "  </tbody>\n",
       "</table>\n",
       "<p>1000 rows × 2 columns</p>\n",
       "</div>"
      ]
     },
     "metadata": {},
     "execution_count": 17
    }
   ],
   "metadata": {}
  },
  {
   "cell_type": "markdown",
   "source": [
    "<h2>EXPORT THE MODEL FOR OTHER USES</h2>"
   ],
   "metadata": {}
  },
  {
   "cell_type": "code",
   "execution_count": 18,
   "source": [
    "filename = 'model.sav'\r\n",
    "pickle.dump(linear_regression, open(filename, 'wb'))"
   ],
   "outputs": [],
   "metadata": {}
  },
  {
   "cell_type": "markdown",
   "source": [
    "<h2>REAL RESULTS</h2>"
   ],
   "metadata": {}
  },
  {
   "cell_type": "code",
   "execution_count": 19,
   "source": [
    "results = [52, 62, 57, 59, 66, 65, 62, 73, 70, 62, 58, 72, 52, 68, 69, 67, 71, 61, 72, 70, 73, 64, 71, 56, 76, 56, 68, 63, 66, 67, 62, 70, 64, 62, 66, 70, 70, 66, 66, 70, 57, 55, 64, 64, 51, 58, 62, 60, 68, 67, 68, 71, 66, 56, 65, 60, 71, 72, 67, 75, 63, 67, 78, 66, 61, 69, 73, 64, 64, 67, 78, 64, 60, 58, 69, 68, 68, 82, 71, 54, 68, 70, 56, 69, 64, 62, 70, 69, 65, 79, 63, 61, 62, 63, 60, 63, 66, 71, 64, 68, 74, 71, 62, 65, 74, 57, 66, 71, 64, 64, 65, 65, 49, 75, 62, 67, 63, 75, 61, 69, 61, 72, 65, 60, 65, 61, 66, 67, 65, 70, 65, 64, 76, 76, 62, 67, 62, 70, 70, 60, 60, 68, 54, 71, 69, 72, 64, 66, 64, 67, 59, 59, 71, 56, 85, 79, 72, 65, 57, 73, 76, 67, 53, 66, 65, 67, 72, 75, 63, 70, 58, 66, 69, 88, 67, 62, 63, 72, 68, 69, 62, 64, 54, 75, 61, 58, 67, 77, 59, 49, 64, 68, 70, 72, 55, 62, 70, 77, 65, 81, 55, 61, 59, 70, 59, 64, 58, 64, 69, 63, 56, 58, 64, 67, 50, 67, 64, 51, 68, 56, 54, 64, 67, 60, 70, 78, 66, 72, 72, 66, 70, 76, 65, 62, 73, 68, 61, 72, 58, 56, 71, 60, 73, 65, 65, 74, 73, 67, 69, 65, 73, 69, 71, 74, 66, 74, 75, 79, 72, 69, 64, 66, 65, 72, 63, 65, 67, 69, 78, 51, 65, 75, 60, 67, 69, 64, 57, 63, 76, 64, 72, 59, 73, 65, 70, 80, 72, 59, 88, 61, 69, 61, 65, 69, 66, 70, 66, 60, 67, 68, 75, 62, 52, 69, 65, 81, 86, 72, 72, 66, 52, 56, 78, 62, 71, 78, 58, 60, 68, 64, 73, 53, 75, 68, 60, 77, 66, 73, 63, 71, 67, 65, 80, 77, 70, 66, 69, 65, 53, 52, 74, 65, 65, 67, 69, 70, 60, 59, 69, 68, 54, 82, 68, 75, 69, 71, 70, 79, 67, 58, 79, 64, 57, 68, 68, 66, 66, 73, 64, 81, 60, 69, 52, 59, 57, 68, 67, 55, 72, 76, 75, 64, 74, 65, 67, 59, 65, 66, 72, 73, 51, 67, 64, 62, 66, 68, 52, 56, 64, 70, 78, 71, 59, 69, 61, 62, 66, 64, 66, 67, 61, 72, 66, 64, 70, 70, 54, 74, 68, 64, 69, 65, 62, 76, 63, 66, 61, 72, 69, 76, 65, 76, 61, 52, 80, 67, 63, 60, 68, 66, 67, 59, 67, 72, 60, 51, 62, 81, 71, 69, 56, 67, 68, 69, 63, 65, 69, 62, 65, 71, 67, 66, 61, 73, 61, 51, 62, 61, 75, 65, 76, 68, 69, 65, 62, 64, 64, 73, 75, 71, 69, 58, 67, 60, 52, 65, 58, 77, 50, 80, 70, 68, 66, 69, 69, 60, 69, 61, 68, 80, 77, 67, 65, 74, 66, 65, 68, 78, 62, 80, 60, 87, 83, 68, 54, 67, 68, 60, 67, 61, 64, 59, 66, 73, 72, 58, 73, 72, 60, 53, 71, 65, 74, 73, 56, 75, 71, 64, 64, 66, 64, 70, 73, 78, 75, 53, 79, 73, 63, 67, 56, 73, 62, 54, 67, 63, 71, 69, 74, 74, 76, 68, 68, 64, 58, 62, 60, 63, 68, 68, 66, 75, 54, 70, 74, 62, 60, 67, 74, 73, 74, 55, 79, 67, 60, 68, 64, 50, 75, 63, 72, 57, 65, 66, 71, 59, 63, 57, 55, 68, 57, 67, 73, 52, 66, 68, 67, 56, 70, 69, 66, 63, 73, 65, 51, 61, 61, 78, 68, 65, 55, 64, 60, 62, 66, 67, 53, 67, 72, 64, 52, 65, 59, 70, 65, 79, 67, 75, 65, 61, 77, 63, 53, 61, 71, 69, 78, 48, 69, 63, 53, 67, 64, 76, 76, 60, 63, 66, 62, 67, 66, 67, 69, 68, 78, 62, 74, 72, 72, 65, 63, 59, 71, 68, 67, 70, 71, 65, 62, 58, 84, 68, 63, 62, 71, 68, 62, 78, 82, 67, 72, 79, 68, 69, 68, 60, 61, 76, 69, 72, 66, 68, 77, 62, 57, 66, 53, 62, 63, 63, 59, 74, 70, 72, 61, 66, 82, 69, 58, 70, 65, 69, 72, 67, 66, 76, 70, 71, 71, 66, 77, 59, 74, 68, 68, 83, 67, 63, 63, 69, 64, 67, 63, 64, 62, 61, 48, 72, 53, 49, 59, 77, 74, 67, 66, 60, 74, 58, 91, 71, 60, 84, 73, 68, 71, 66, 54, 65, 64, 64, 63, 69, 75, 71, 68, 62, 70, 65, 79, 57, 65, 65, 70, 66, 61, 61, 74, 59, 54, 59, 64, 75, 50, 66, 63, 69, 70, 66, 63, 57, 66, 76, 54, 73, 68, 62, 64, 62, 64, 67, 70, 75, 68, 57, 70, 64, 63, 51, 74, 80, 72, 65, 72, 53, 65, 77, 72, 63, 69, 57, 69, 65, 65, 67, 70, 79, 69, 55, 73, 66, 61, 77, 68, 66, 70, 73, 71, 70, 72, 66, 66, 64, 60, 67, 63, 58, 51, 61, 71, 65, 80, 75, 74, 64, 69, 62, 73, 65, 66, 72, 64, 68, 62, 56, 78, 78, 70, 73, 52, 68, 61, 72, 61, 60, 67, 69, 79, 66, 65, 76, 66, 74, 63, 71, 66, 71, 66, 54, 70, 71, 65, 64, 68, 66, 71, 66, 79, 64, 78, 64, 54, 70, 59, 59, 76, 70, 78, 65, 61, 68, 71, 63, 65, 67, 71, 64, 65, 62, 77, 48, 75, 67, 75, 68, 64, 67, 62, 64, 59, 64, 73, 58, 85, 63, 65, 62, 69, 72, 75, 59, 71, 55, 70, 70, 64, 66, 61, 64, 54, 72, 54, 66, 62, 63, 76, 69, 69, 73, 67, 74, 71, 56, 71, 63, 67, 68, 65, 80, 60, 58, 65, 75, 66, 70, 63, 69, 61, 69, 72, 67, 65, 67, 70, 72, 68, 67, 73, 72, 59, 68]\r\n",
    "r2_final = r2_score(predictions, results)\r\n",
    "print(f'REAL R2 FROM NEW DATA: {r2_final}')"
   ],
   "outputs": [
    {
     "output_type": "stream",
     "name": "stdout",
     "text": [
      "REAL R2 FROM NEW DATA: 0.7080565873767162\n"
     ]
    }
   ],
   "metadata": {}
  }
 ],
 "metadata": {
  "orig_nbformat": 4,
  "language_info": {
   "name": "python",
   "version": "3.7.6",
   "mimetype": "text/x-python",
   "codemirror_mode": {
    "name": "ipython",
    "version": 3
   },
   "pygments_lexer": "ipython3",
   "nbconvert_exporter": "python",
   "file_extension": ".py"
  },
  "kernelspec": {
   "name": "python3",
   "display_name": "Python 3.7.6 64-bit ('ironhack_environment': venv)"
  },
  "interpreter": {
   "hash": "df81bf56b2521791aaa0ff1ac8d57256f917b61d33ad24d6b6d13191d105bbf2"
  }
 },
 "nbformat": 4,
 "nbformat_minor": 2
}